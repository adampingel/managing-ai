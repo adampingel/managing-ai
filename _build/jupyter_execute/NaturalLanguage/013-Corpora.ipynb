{
 "cells": [
  {
   "cell_type": "markdown",
   "id": "92b54f95-8f16-4c0f-bed7-3bea9e86d1e3",
   "metadata": {},
   "source": [
    "# Corpora\n",
    "\n",
    "This book uses a few small, well-known, publically available\n",
    "corpora to demonstrate NLP concepts.\n",
    "\n",
    "* Federalist Papers\n",
    "* Shakespeare\n"
   ]
  },
  {
   "cell_type": "code",
   "execution_count": null,
   "id": "82d37b12-77fe-400e-a058-3c2a7e568402",
   "metadata": {},
   "outputs": [],
   "source": []
  }
 ],
 "metadata": {
  "kernelspec": {
   "display_name": "Python 3 (ipykernel)",
   "language": "python",
   "name": "python3"
  },
  "language_info": {
   "codemirror_mode": {
    "name": "ipython",
    "version": 3
   },
   "file_extension": ".py",
   "mimetype": "text/x-python",
   "name": "python",
   "nbconvert_exporter": "python",
   "pygments_lexer": "ipython3",
   "version": "3.7.3"
  }
 },
 "nbformat": 4,
 "nbformat_minor": 5
}