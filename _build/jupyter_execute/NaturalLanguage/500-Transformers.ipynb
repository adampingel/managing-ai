{
 "cells": [
  {
   "cell_type": "markdown",
   "id": "15ada68a-4664-4d77-af72-6458ce90811d",
   "metadata": {},
   "source": [
    "# Transformers"
   ]
  },
  {
   "cell_type": "markdown",
   "id": "c0d9df06-a33e-480b-bf24-92f2b78bc305",
   "metadata": {},
   "source": [
    "Citation ${cite:p}`DBLP:journals/corr/VaswaniSPUJGKP17`$"
   ]
  },
  {
   "cell_type": "markdown",
   "id": "6157877d-a144-4475-87a7-0c686dc10ab9",
   "metadata": {},
   "source": [
    "Transformer\n",
    "\n",
    "Wikipedia: https://en.wikipedia.org/wiki/Transformer_(machine_learning_model)\n",
    "\n",
    "> A transformer is a deep learning model that adopts the mechanism of self-attention, differentially weighting the significance of each part of the input data. It is used primarily in the fields of natural language processing (NLP)[1] and computer vision (CV).[2]\n",
    "\n",
    "> Like recurrent neural networks (RNNs), transformers are designed to process sequential input data, such as natural language, with applications towards tasks such as translation and text summarization. However, unlike RNNs, transformers process the entire input all at once. The attention mechanism provides context for any position in the input sequence. For example, if the input data is a natural language sentence, the transformer does not have to process one word at a time. This allows for more parallelization than RNNs and therefore reduces training times.[1]\n",
    "\n",
    "> Transformers were introduced in 2017 by a team at Google Brain[1] and are increasingly the model of choice for NLP problems,[3] replacing RNN models such as long short-term memory (LSTM). The additional training parallelization allows training on larger datasets. This led to the development of pretrained systems such as BERT (Bidirectional Encoder Representations from Transformers) and GPT (Generative Pre-trained Transformer), which were trained with large language datasets, such as the Wikipedia Corpus and Common Crawl, and can be fine-tuned for specific tasks.[4][5]\n"
   ]
  },
  {
   "cell_type": "code",
   "execution_count": null,
   "id": "5686d614-179f-42b0-947d-561908122f31",
   "metadata": {},
   "outputs": [],
   "source": []
  }
 ],
 "metadata": {
  "kernelspec": {
   "display_name": "Python 3 (ipykernel)",
   "language": "python",
   "name": "python3"
  },
  "language_info": {
   "codemirror_mode": {
    "name": "ipython",
    "version": 3
   },
   "file_extension": ".py",
   "mimetype": "text/x-python",
   "name": "python",
   "nbconvert_exporter": "python",
   "pygments_lexer": "ipython3",
   "version": "3.11.3"
  }
 },
 "nbformat": 4,
 "nbformat_minor": 5
}