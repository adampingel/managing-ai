{
 "cells": [
  {
   "cell_type": "markdown",
   "id": "15ada68a-4664-4d77-af72-6458ce90811d",
   "metadata": {},
   "source": [
    "# Transformers"
   ]
  },
  {
   "cell_type": "code",
   "execution_count": 1,
   "id": "00679250-9bb3-4118-8222-18e28d613319",
   "metadata": {
    "tags": []
   },
   "outputs": [
    {
     "name": "stdout",
     "output_type": "stream",
     "text": [
      "Hello!\n"
     ]
    }
   ],
   "source": [
    "print(\"Hello!\")\n"
   ]
  },
  {
   "cell_type": "raw",
   "id": "f755b607-d2bc-4d7f-a535-fe0c82560303",
   "metadata": {},
   "source": [
    "{cite:p}`DBLP:journals/corr/VaswaniSPUJGKP17`"
   ]
  },
  {
   "cell_type": "code",
   "execution_count": null,
   "id": "295064b2-a505-400d-b9b3-ffd9ac4c1224",
   "metadata": {},
   "outputs": [],
   "source": []
  }
 ],
 "metadata": {
  "kernelspec": {
   "display_name": "Python 3 (ipykernel)",
   "language": "python",
   "name": "python3"
  },
  "language_info": {
   "codemirror_mode": {
    "name": "ipython",
    "version": 3
   },
   "file_extension": ".py",
   "mimetype": "text/x-python",
   "name": "python",
   "nbconvert_exporter": "python",
   "pygments_lexer": "ipython3",
   "version": "3.7.3"
  }
 },
 "nbformat": 4,
 "nbformat_minor": 5
}