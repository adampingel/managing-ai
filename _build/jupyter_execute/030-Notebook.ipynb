{
 "cells": [
  {
   "cell_type": "markdown",
   "id": "61a3e1ff-3016-4455-a05f-572f7d60975b",
   "metadata": {},
   "source": [
    "# Title of the Notebook"
   ]
  },
  {
   "cell_type": "code",
   "execution_count": 1,
   "id": "2dc71b8b-117f-4f1b-b365-cbb45d22df87",
   "metadata": {},
   "outputs": [
    {
     "name": "stdout",
     "output_type": "stream",
     "text": [
      "Hello, Jupyter Book!\n"
     ]
    }
   ],
   "source": [
    "print(\"Hello, Jupyter Book!\")\n"
   ]
  },
  {
   "cell_type": "markdown",
   "id": "b28d787b-b182-4c2c-adca-957c1c7b47c5",
   "metadata": {},
   "source": [
    "This is $this_{is}^{inline}$ inlne math..."
   ]
  },
  {
   "cell_type": "code",
   "execution_count": null,
   "id": "62e57bef-36c5-4aa3-a22b-24b403723af4",
   "metadata": {},
   "outputs": [],
   "source": []
  }
 ],
 "metadata": {
  "kernelspec": {
   "display_name": "Python 3 (ipykernel)",
   "language": "python",
   "name": "python3"
  },
  "language_info": {
   "codemirror_mode": {
    "name": "ipython",
    "version": 3
   },
   "file_extension": ".py",
   "mimetype": "text/x-python",
   "name": "python",
   "nbconvert_exporter": "python",
   "pygments_lexer": "ipython3",
   "version": "3.11.2"
  }
 },
 "nbformat": 4,
 "nbformat_minor": 5
}