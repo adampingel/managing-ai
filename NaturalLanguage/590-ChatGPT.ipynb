{
 "cells": [
  {
   "cell_type": "markdown",
   "id": "b3473aab-58ad-4ea8-8462-d9fb8d9f41f8",
   "metadata": {},
   "source": [
    "# ChatGPT"
   ]
  },
  {
   "cell_type": "markdown",
   "id": "6a0992fb-5993-45e4-8060-72e242d680ac",
   "metadata": {},
   "source": [
    "Wikipedia: https://en.wikipedia.org/wiki/ChatGPT\n",
    "\n",
    "> ChatGPT (Chat Generative Pre-trained Transformer[2]) is a chatbot developed by OpenAI and launched in November 2022. It is built on top of OpenAI's GPT-3 family of large language models and has been fine-tuned (an approach to transfer learning) using both supervised and reinforcement learning techniques.\n"
   ]
  },
  {
   "cell_type": "markdown",
   "id": "84d9502d-c55c-4100-82f2-384785956524",
   "metadata": {},
   "source": [
    "Let’s Build ChatGPT: From Scratch, In Code, Spelled Out\n",
    "\n",
    "<iframe width=\"560\" height=\"315\" src=\"https://www.youtube.com/embed/kCc8FmEb1nY\" title=\"YouTube video player\" frameborder=\"0\" allow=\"accelerometer; autoplay; clipboard-write; encrypted-media; gyroscope; picture-in-picture; web-share\" allowfullscreen></iframe>\n"
   ]
  },
  {
   "cell_type": "code",
   "execution_count": null,
   "id": "26389bbe-d117-402b-84fd-e47de3a150f9",
   "metadata": {},
   "outputs": [],
   "source": []
  }
 ],
 "metadata": {
  "kernelspec": {
   "display_name": "Python 3 (ipykernel)",
   "language": "python",
   "name": "python3"
  },
  "language_info": {
   "codemirror_mode": {
    "name": "ipython",
    "version": 3
   },
   "file_extension": ".py",
   "mimetype": "text/x-python",
   "name": "python",
   "nbconvert_exporter": "python",
   "pygments_lexer": "ipython3",
   "version": "3.11.2"
  }
 },
 "nbformat": 4,
 "nbformat_minor": 5
}
